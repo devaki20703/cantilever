{
  "nbformat": 4,
  "nbformat_minor": 0,
  "metadata": {
    "colab": {
      "provenance": [],
      "authorship_tag": "ABX9TyOXwRysPyJtEusFFaxFyEN3",
      "include_colab_link": true
    },
    "kernelspec": {
      "name": "python3",
      "display_name": "Python 3"
    },
    "language_info": {
      "name": "python"
    }
  },
  "cells": [
    {
      "cell_type": "markdown",
      "metadata": {
        "id": "view-in-github",
        "colab_type": "text"
      },
      "source": [
        "<a href=\"https://colab.research.google.com/github/devaki20703/cantilever/blob/main/2webscraping.ipynb\" target=\"_parent\"><img src=\"https://colab.research.google.com/assets/colab-badge.svg\" alt=\"Open In Colab\"/></a>"
      ]
    },
    {
      "cell_type": "code",
      "execution_count": 21,
      "metadata": {
        "id": "DTBLKkjEaB4g"
      },
      "outputs": [],
      "source": [
        "import requests\n",
        "from bs4 import BeautifulSoup\n",
        "import csv\n",
        "from google.colab import files"
      ]
    },
    {
      "cell_type": "code",
      "source": [
        "# The URL of the static page we want to scrape\n",
        "URL = \"http://books.toscrape.com/\""
      ],
      "metadata": {
        "id": "QsWyvYx5aOnR"
      },
      "execution_count": 11,
      "outputs": []
    },
    {
      "cell_type": "code",
      "source": [
        "# A good practice is to set a User-Agent to mimic a browser request\n",
        "headers = {\n",
        "    \"User-Agent\": \"Mozilla/5.0 (Windows NT 10.0; Win64; x64) AppleWebKit/537.36 (KHTML, like Gecko) Chrome/91.0.4472.124 Safari/537.36\"\n",
        "}\n",
        "\n",
        "try:\n",
        "    # 1. Fetch the page content\n",
        "    print(f\"Fetching content from {URL}...\")\n",
        "    response = requests.get(URL, headers=headers)\n",
        "\n",
        "    # Raise an exception if the request was not successful (e.g., 404 Not Found)\n",
        "    response.raise_for_status()\n",
        "    print(\"Page fetched successfully!\")\n",
        "\n",
        "    # 2. Parse the HTML with BeautifulSoup\n",
        "    # 'html.parser' is the built-in Python parser\n",
        "    soup = BeautifulSoup(response.content, 'html.parser')\n",
        "\n",
        "    # 3. Find and extract the data\n",
        "    # Find all book containers. By inspecting the site, we know each book is an <article>\n",
        "    # with the class 'product_pod'.\n",
        "    books = soup.find_all('article', class_='product_pod')\n",
        "\n",
        "    print(f\"\\nFound {len(books)} books on the page. Extracting details...\\n\")\n",
        "\n",
        "    # Loop through each book container to get the details\n",
        "    for book in books:\n",
        "        # The title is in an 'a' tag inside an 'h3' tag. We get its 'title' attribute.\n",
        "        title = book.h3.a['title']\n",
        "\n",
        "        # The price is in a 'p' tag with the class 'price_color'.\n",
        "        price = book.find('p', class_='price_color').get_text()\n",
        "\n",
        "        # Print the extracted data\n",
        "        print(f\"Title: {title}\")\n",
        "        print(f\"Price: {price}\\n\" + \"-\"*20)\n",
        "\n",
        "except requests.exceptions.RequestException as e:\n",
        "    print(f\"An error occurred during the request: {e}\")\n",
        "except Exception as e:\n",
        "    print(f\"An unexpected error occurred: {e}\")"
      ],
      "metadata": {
        "colab": {
          "base_uri": "https://localhost:8080/"
        },
        "id": "HXBCTXBHablp",
        "outputId": "697345f4-53c5-4ddc-8a33-cb34b80a7bac"
      },
      "execution_count": 12,
      "outputs": [
        {
          "output_type": "stream",
          "name": "stdout",
          "text": [
            "Fetching content from http://books.toscrape.com/...\n",
            "Page fetched successfully!\n",
            "\n",
            "Found 20 books on the page. Extracting details...\n",
            "\n",
            "Title: A Light in the Attic\n",
            "Price: £51.77\n",
            "--------------------\n",
            "Title: Tipping the Velvet\n",
            "Price: £53.74\n",
            "--------------------\n",
            "Title: Soumission\n",
            "Price: £50.10\n",
            "--------------------\n",
            "Title: Sharp Objects\n",
            "Price: £47.82\n",
            "--------------------\n",
            "Title: Sapiens: A Brief History of Humankind\n",
            "Price: £54.23\n",
            "--------------------\n",
            "Title: The Requiem Red\n",
            "Price: £22.65\n",
            "--------------------\n",
            "Title: The Dirty Little Secrets of Getting Your Dream Job\n",
            "Price: £33.34\n",
            "--------------------\n",
            "Title: The Coming Woman: A Novel Based on the Life of the Infamous Feminist, Victoria Woodhull\n",
            "Price: £17.93\n",
            "--------------------\n",
            "Title: The Boys in the Boat: Nine Americans and Their Epic Quest for Gold at the 1936 Berlin Olympics\n",
            "Price: £22.60\n",
            "--------------------\n",
            "Title: The Black Maria\n",
            "Price: £52.15\n",
            "--------------------\n",
            "Title: Starving Hearts (Triangular Trade Trilogy, #1)\n",
            "Price: £13.99\n",
            "--------------------\n",
            "Title: Shakespeare's Sonnets\n",
            "Price: £20.66\n",
            "--------------------\n",
            "Title: Set Me Free\n",
            "Price: £17.46\n",
            "--------------------\n",
            "Title: Scott Pilgrim's Precious Little Life (Scott Pilgrim #1)\n",
            "Price: £52.29\n",
            "--------------------\n",
            "Title: Rip it Up and Start Again\n",
            "Price: £35.02\n",
            "--------------------\n",
            "Title: Our Band Could Be Your Life: Scenes from the American Indie Underground, 1981-1991\n",
            "Price: £57.25\n",
            "--------------------\n",
            "Title: Olio\n",
            "Price: £23.88\n",
            "--------------------\n",
            "Title: Mesaerion: The Best Science Fiction Stories 1800-1849\n",
            "Price: £37.59\n",
            "--------------------\n",
            "Title: Libertarianism for Beginners\n",
            "Price: £51.33\n",
            "--------------------\n",
            "Title: It's Only the Himalayas\n",
            "Price: £45.17\n",
            "--------------------\n"
          ]
        }
      ]
    },
    {
      "cell_type": "code",
      "source": [
        "scraped_data = []\n",
        "for book in books:\n",
        "    title = book.h3.a['title']\n",
        "    price = book.find('p', class_='price_color').get_text()\n",
        "    scraped_data.append({'Title': title, 'Price': price})"
      ],
      "metadata": {
        "id": "XSX-sJ43axj2"
      },
      "execution_count": 14,
      "outputs": []
    },
    {
      "cell_type": "code",
      "source": [
        "df = pd.DataFrame(scraped_data)\n",
        "print(df)"
      ],
      "metadata": {
        "colab": {
          "base_uri": "https://localhost:8080/"
        },
        "id": "6XW5qXKHcDkH",
        "outputId": "f07b4487-db72-44b8-84c4-5668fa03c27e"
      },
      "execution_count": 18,
      "outputs": [
        {
          "output_type": "stream",
          "name": "stdout",
          "text": [
            "                                                Title   Price\n",
            "0                                A Light in the Attic  £51.77\n",
            "1                                  Tipping the Velvet  £53.74\n",
            "2                                          Soumission  £50.10\n",
            "3                                       Sharp Objects  £47.82\n",
            "4               Sapiens: A Brief History of Humankind  £54.23\n",
            "5                                     The Requiem Red  £22.65\n",
            "6   The Dirty Little Secrets of Getting Your Dream...  £33.34\n",
            "7   The Coming Woman: A Novel Based on the Life of...  £17.93\n",
            "8   The Boys in the Boat: Nine Americans and Their...  £22.60\n",
            "9                                     The Black Maria  £52.15\n",
            "10     Starving Hearts (Triangular Trade Trilogy, #1)  £13.99\n",
            "11                              Shakespeare's Sonnets  £20.66\n",
            "12                                        Set Me Free  £17.46\n",
            "13  Scott Pilgrim's Precious Little Life (Scott Pi...  £52.29\n",
            "14                          Rip it Up and Start Again  £35.02\n",
            "15  Our Band Could Be Your Life: Scenes from the A...  £57.25\n",
            "16                                               Olio  £23.88\n",
            "17  Mesaerion: The Best Science Fiction Stories 18...  £37.59\n",
            "18                       Libertarianism for Beginners  £51.33\n",
            "19                            It's Only the Himalayas  £45.17\n"
          ]
        }
      ]
    },
    {
      "cell_type": "code",
      "source": [
        "df.to_csv('books.csv', index=False)\n",
        "\n",
        "print(\"\\n✅ Data saved to books.csv\")"
      ],
      "metadata": {
        "colab": {
          "base_uri": "https://localhost:8080/"
        },
        "id": "8snCldiqb7VJ",
        "outputId": "f01099d2-02f0-4280-ee9b-18db54e4b680"
      },
      "execution_count": 19,
      "outputs": [
        {
          "output_type": "stream",
          "name": "stdout",
          "text": [
            "\n",
            "✅ Data saved to books.csv\n"
          ]
        }
      ]
    },
    {
      "cell_type": "code",
      "source": [
        "files.download('books.csv')"
      ],
      "metadata": {
        "colab": {
          "base_uri": "https://localhost:8080/",
          "height": 17
        },
        "id": "-AKnlaUIckZ1",
        "outputId": "ea5c27cc-3841-4ecf-e5d4-e210e6be53e8"
      },
      "execution_count": 22,
      "outputs": [
        {
          "output_type": "display_data",
          "data": {
            "text/plain": [
              "<IPython.core.display.Javascript object>"
            ],
            "application/javascript": [
              "\n",
              "    async function download(id, filename, size) {\n",
              "      if (!google.colab.kernel.accessAllowed) {\n",
              "        return;\n",
              "      }\n",
              "      const div = document.createElement('div');\n",
              "      const label = document.createElement('label');\n",
              "      label.textContent = `Downloading \"${filename}\": `;\n",
              "      div.appendChild(label);\n",
              "      const progress = document.createElement('progress');\n",
              "      progress.max = size;\n",
              "      div.appendChild(progress);\n",
              "      document.body.appendChild(div);\n",
              "\n",
              "      const buffers = [];\n",
              "      let downloaded = 0;\n",
              "\n",
              "      const channel = await google.colab.kernel.comms.open(id);\n",
              "      // Send a message to notify the kernel that we're ready.\n",
              "      channel.send({})\n",
              "\n",
              "      for await (const message of channel.messages) {\n",
              "        // Send a message to notify the kernel that we're ready.\n",
              "        channel.send({})\n",
              "        if (message.buffers) {\n",
              "          for (const buffer of message.buffers) {\n",
              "            buffers.push(buffer);\n",
              "            downloaded += buffer.byteLength;\n",
              "            progress.value = downloaded;\n",
              "          }\n",
              "        }\n",
              "      }\n",
              "      const blob = new Blob(buffers, {type: 'application/binary'});\n",
              "      const a = document.createElement('a');\n",
              "      a.href = window.URL.createObjectURL(blob);\n",
              "      a.download = filename;\n",
              "      div.appendChild(a);\n",
              "      a.click();\n",
              "      div.remove();\n",
              "    }\n",
              "  "
            ]
          },
          "metadata": {}
        },
        {
          "output_type": "display_data",
          "data": {
            "text/plain": [
              "<IPython.core.display.Javascript object>"
            ],
            "application/javascript": [
              "download(\"download_270e7d0d-2779-4146-98c9-f608eb953b24\", \"books.csv\", 905)"
            ]
          },
          "metadata": {}
        }
      ]
    }
  ]
}
