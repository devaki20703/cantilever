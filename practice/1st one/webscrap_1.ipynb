{
  "nbformat": 4,
  "nbformat_minor": 0,
  "metadata": {
    "colab": {
      "provenance": [],
      "authorship_tag": "ABX9TyPQ+xbuvH3k40w/CS287GiT",
      "include_colab_link": true
    },
    "kernelspec": {
      "name": "python3",
      "display_name": "Python 3"
    },
    "language_info": {
      "name": "python"
    }
  },
  "cells": [
    {
      "cell_type": "markdown",
      "metadata": {
        "id": "view-in-github",
        "colab_type": "text"
      },
      "source": [
        "<a href=\"https://colab.research.google.com/github/devaki20703/cantilever/blob/main/webscrap_1.ipynb\" target=\"_parent\"><img src=\"https://colab.research.google.com/assets/colab-badge.svg\" alt=\"Open In Colab\"/></a>"
      ]
    },
    {
      "cell_type": "code",
      "source": [
        "pip install feedparser"
      ],
      "metadata": {
        "colab": {
          "base_uri": "https://localhost:8080/"
        },
        "id": "ZEqxfiuY7o4X",
        "outputId": "01dbbba6-8cec-4555-c7de-fbcc35cbc1af"
      },
      "execution_count": null,
      "outputs": [
        {
          "output_type": "stream",
          "name": "stdout",
          "text": [
            "Collecting feedparser\n",
            "  Downloading feedparser-6.0.11-py3-none-any.whl.metadata (2.4 kB)\n",
            "Collecting sgmllib3k (from feedparser)\n",
            "  Downloading sgmllib3k-1.0.0.tar.gz (5.8 kB)\n",
            "  Preparing metadata (setup.py) ... \u001b[?25l\u001b[?25hdone\n",
            "Downloading feedparser-6.0.11-py3-none-any.whl (81 kB)\n",
            "\u001b[2K   \u001b[90m━━━━━━━━━━━━━━━━━━━━━━━━━━━━━━━━━━━━━━━━\u001b[0m \u001b[32m81.3/81.3 kB\u001b[0m \u001b[31m2.2 MB/s\u001b[0m eta \u001b[36m0:00:00\u001b[0m\n",
            "\u001b[?25hBuilding wheels for collected packages: sgmllib3k\n",
            "  Building wheel for sgmllib3k (setup.py) ... \u001b[?25l\u001b[?25hdone\n",
            "  Created wheel for sgmllib3k: filename=sgmllib3k-1.0.0-py3-none-any.whl size=6046 sha256=003c1827d8bb417232cecce64827a394c43f4ddc222b36a9ecb468bf25a5023c\n",
            "  Stored in directory: /root/.cache/pip/wheels/3b/25/2a/105d6a15df6914f4d15047691c6c28f9052cc1173e40285d03\n",
            "Successfully built sgmllib3k\n",
            "Installing collected packages: sgmllib3k, feedparser\n",
            "Successfully installed feedparser-6.0.11 sgmllib3k-1.0.0\n"
          ]
        }
      ]
    },
    {
      "cell_type": "code",
      "source": [
        "from bs4 import BeautifulSoup\n",
        "import pandas as pd\n",
        "\n",
        "# Load the local HTML file\n",
        "# 'r' stands for read mode\n",
        "with open('/content/practice_page.html', 'r', encoding='utf-8') as f:\n",
        "    contents = f.read()\n",
        "\n",
        "# Create a BeautifulSoup object to parse the HTML\n",
        "soup = BeautifulSoup(contents, 'lxml')\n",
        "\n",
        "print(\"--- Scraping Started ---\")\n",
        "\n",
        "# 1. Find a single element by its ID\n",
        "# The find() method returns the first matching element.\n",
        "main_title = soup.find('h1', id='main-title')\n",
        "print(f\"Page Title:  {main_title.get_text(strip=True)}\")\n",
        "\n",
        "# 2. Find all elements with a specific class\n",
        "# The find_all() method returns a list of all matching elements.\n",
        "books = soup.find_all('div', class_='book')\n",
        "print(f\"Found {len(books)} books.\\n\")\n",
        "\n",
        "# A list to store our scraped data\n",
        "book_data = []\n",
        "\n",
        "# 3. Loop through the found elements and extract nested data\n",
        "for book in books:\n",
        "    # Find the text of specific child elements\n",
        "    title = book.find('h2').get_text(strip=True)\n",
        "    author = book.find('p', class_='author').get_text(strip=True)\n",
        "    price_str = book.find('span', class_='price').get_text(strip=True)\n",
        "\n",
        "    # Extract data from an attribute (the 'data-id' in the div)\n",
        "    isbn = book['data-id']\n",
        "\n",
        "    # Clean the data (e.g., remove the '$' from the price)\n",
        "    price = float(price_str.replace('$', ''))\n",
        "\n",
        "    # Append the extracted data as a dictionary to our list\n",
        "    book_data.append({\n",
        "        \"Title\": title,\n",
        "        \"Author\": author,\n",
        "        \"ISBN\": isbn,\n",
        "        \"Price\": price\n",
        "    })\n",
        "\n",
        "# 4. Convert the list of dictionaries into a pandas DataFrame\n",
        "df = pd.DataFrame(book_data)\n",
        "\n",
        "# Display the final result\n",
        "print(\"--- Scraping Complete ---\")\n",
        "print(df)\n",
        "\n",
        "# You can also save this to a CSV file\n",
        "df.to_csv('books.csv', index=False)\n",
        "print(\"\\n✅ Data saved to books.csv\")"
      ],
      "metadata": {
        "colab": {
          "base_uri": "https://localhost:8080/"
        },
        "id": "D5nBTstq8z0c",
        "outputId": "23592659-4a9a-455d-e595-b15c041f514a"
      },
      "execution_count": null,
      "outputs": [
        {
          "output_type": "stream",
          "name": "stdout",
          "text": [
            "--- Scraping Started ---\n",
            "Page Title: Featured Books\n",
            "Found 3 books.\n",
            "\n",
            "--- Scraping Complete ---\n",
            "                   Title               Author            ISBN  Price\n",
            "0       The Great Gatsby  F. Scott Fitzgerald  978-0743273565  10.00\n",
            "1                   1984        George Orwell  978-0451524935   8.50\n",
            "2  To Kill a Mockingbird           Harper Lee  978-0061120084  12.25\n",
            "\n",
            "✅ Data saved to books.csv\n"
          ]
        }
      ]
    },
    {
      "cell_type": "code",
      "source": [],
      "metadata": {
        "id": "pcAB8N9f-TIM"
      },
      "execution_count": null,
      "outputs": []
    }
  ]
}
