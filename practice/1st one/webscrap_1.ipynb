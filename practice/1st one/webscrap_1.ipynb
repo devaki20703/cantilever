{
  "nbformat": 4,
  "nbformat_minor": 0,
  "metadata": {
    "colab": {
      "provenance": [],
      "authorship_tag": "ABX9TyPBMQljtF1MJK1soq8uJ2oS",
      "include_colab_link": true
    },
    "kernelspec": {
      "name": "python3",
      "display_name": "Python 3"
    },
    "language_info": {
      "name": "python"
    }
  },
  "cells": [
    {
      "cell_type": "markdown",
      "metadata": {
        "id": "view-in-github",
        "colab_type": "text"
      },
      "source": [
        "<a href=\"https://colab.research.google.com/github/devaki20703/cantilever/blob/main/practice/1st%20one/webscrap_1.ipynb\" target=\"_parent\"><img src=\"https://colab.research.google.com/assets/colab-badge.svg\" alt=\"Open In Colab\"/></a>"
      ]
    },
    {
      "cell_type": "code",
      "source": [
        "from bs4 import BeautifulSoup\n",
        "import pandas as pd\n",
        "\n",
        "# Load the local HTML file\n",
        "# 'r' stands for read mode\n",
        "with open('/content/practice_page.html', 'r', encoding='utf-8') as f:\n",
        "    contents = f.read()\n",
        "\n",
        "# Create a BeautifulSoup object to parse the HTML\n",
        "soup = BeautifulSoup(contents, 'lxml')\n",
        "\n",
        "print(\"--- Scraping Started ---\")\n",
        "\n",
        "# 1. Find a single element by its ID\n",
        "# The find() method returns the first matching element.\n",
        "main_title = soup.find('h1', id='main-title')\n",
        "print(f\"Page Title:  {main_title.get_text(strip=True)}\")\n",
        "\n",
        "# 2. Find all elements with a specific class\n",
        "# The find_all() method returns a list of all matching elements.\n",
        "books = soup.find_all('div', class_='book')\n",
        "print(f\"Found {len(books)} books.\\n\")\n",
        "\n",
        "# A list to store our scraped data\n",
        "book_data = []\n",
        "\n",
        "# 3. Loop through the found elements and extract nested data\n",
        "for book in books:\n",
        "    # Find the text of specific child elements\n",
        "    title = book.find('h2').get_text(strip=True)\n",
        "    author = book.find('p', class_='author').get_text(strip=True)\n",
        "    price_str = book.find('span', class_='price').get_text(strip=True)\n",
        "\n",
        "    # Extract data from an attribute (the 'data-id' in the div)\n",
        "    isbn = book['data-id']\n",
        "\n",
        "    # Clean the data (e.g., remove the '$' from the price)\n",
        "    price = float(price_str.replace('$', ''))\n",
        "\n",
        "    # Append the extracted data as a dictionary to our list\n",
        "    book_data.append({\n",
        "        \"Title\": title,\n",
        "        \"Author\": author,\n",
        "        \"ISBN\": isbn,\n",
        "        \"Price\": price\n",
        "    })\n",
        "\n",
        "# 4. Convert the list of dictionaries into a pandas DataFrame\n",
        "df = pd.DataFrame(book_data)\n",
        "\n",
        "# Display the final result\n",
        "print(\"--- Scraping Complete ---\")\n",
        "print(df)\n",
        "\n",
        "# You can also save this to a CSV file\n",
        "df.to_csv('books.csv', index=False)\n",
        "print(\"\\n✅ Data saved to books.csv\")"
      ],
      "metadata": {
        "colab": {
          "base_uri": "https://localhost:8080/",
          "height": 211
        },
        "id": "D5nBTstq8z0c",
        "outputId": "25bb8de8-cca6-419e-c8d4-2dd99833f627"
      },
      "execution_count": 1,
      "outputs": [
        {
          "output_type": "error",
          "ename": "FileNotFoundError",
          "evalue": "[Errno 2] No such file or directory: '/content/practice_page.html'",
          "traceback": [
            "\u001b[0;31m---------------------------------------------------------------------------\u001b[0m",
            "\u001b[0;31mFileNotFoundError\u001b[0m                         Traceback (most recent call last)",
            "\u001b[0;32m/tmp/ipython-input-3774112231.py\u001b[0m in \u001b[0;36m<cell line: 0>\u001b[0;34m()\u001b[0m\n\u001b[1;32m      4\u001b[0m \u001b[0;31m# Load the local HTML file\u001b[0m\u001b[0;34m\u001b[0m\u001b[0;34m\u001b[0m\u001b[0m\n\u001b[1;32m      5\u001b[0m \u001b[0;31m# 'r' stands for read mode\u001b[0m\u001b[0;34m\u001b[0m\u001b[0;34m\u001b[0m\u001b[0m\n\u001b[0;32m----> 6\u001b[0;31m \u001b[0;32mwith\u001b[0m \u001b[0mopen\u001b[0m\u001b[0;34m(\u001b[0m\u001b[0;34m'/content/practice_page.html'\u001b[0m\u001b[0;34m,\u001b[0m \u001b[0;34m'r'\u001b[0m\u001b[0;34m,\u001b[0m \u001b[0mencoding\u001b[0m\u001b[0;34m=\u001b[0m\u001b[0;34m'utf-8'\u001b[0m\u001b[0;34m)\u001b[0m \u001b[0;32mas\u001b[0m \u001b[0mf\u001b[0m\u001b[0;34m:\u001b[0m\u001b[0;34m\u001b[0m\u001b[0;34m\u001b[0m\u001b[0m\n\u001b[0m\u001b[1;32m      7\u001b[0m     \u001b[0mcontents\u001b[0m \u001b[0;34m=\u001b[0m \u001b[0mf\u001b[0m\u001b[0;34m.\u001b[0m\u001b[0mread\u001b[0m\u001b[0;34m(\u001b[0m\u001b[0;34m)\u001b[0m\u001b[0;34m\u001b[0m\u001b[0;34m\u001b[0m\u001b[0m\n\u001b[1;32m      8\u001b[0m \u001b[0;34m\u001b[0m\u001b[0m\n",
            "\u001b[0;31mFileNotFoundError\u001b[0m: [Errno 2] No such file or directory: '/content/practice_page.html'"
          ]
        }
      ]
    },
    {
      "cell_type": "code",
      "source": [],
      "metadata": {
        "id": "pcAB8N9f-TIM"
      },
      "execution_count": null,
      "outputs": []
    }
  ]
}